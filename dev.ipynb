{
 "cells": [
  {
   "cell_type": "code",
   "execution_count": 1,
   "metadata": {},
   "outputs": [],
   "source": [
    "import os\n",
    "import time\n",
    "\n",
    "import aprofiles as apro\n",
    "import numpy as np\n",
    "import xarray as xr\n",
    "\n",
    "start_time = time.time()\n",
    "\n",
    "BASE_DIR_OUT = 'data/v-profiles'\n",
    "date = '2021-09-09'\n",
    "yyyy = date.split('-')[0]\n",
    "mm = date.split('-')[1]\n",
    "dd = date.split('-')[2]"
   ]
  },
  {
   "cell_type": "code",
   "execution_count": 2,
   "metadata": {},
   "outputs": [],
   "source": [
    "datepath = os.path.join(BASE_DIR_OUT,yyyy,mm,dd)\n",
    "onlyfiles = [f for f in os.listdir(datepath) if os.path.isfile(os.path.join(datepath, f))]"
   ]
  },
  {
   "cell_type": "code",
   "execution_count": 3,
   "metadata": {},
   "outputs": [],
   "source": [
    "filename = onlyfiles[0]\n",
    "ds = xr.open_dataset(os.path.join(datepath, filename), decode_times=True)"
   ]
  },
  {
   "cell_type": "code",
   "execution_count": 11,
   "metadata": {},
   "outputs": [],
   "source": [
    "scene_classes = ['low_cloud', 'mid_cloud', 'high_cloud', 'foc', 'aer']\n",
    "\n",
    "counts = {}\n",
    "for scene_class in scene_classes:\n",
    "    counts[scene_class] = len(ds.scene.data[ds.scene.data == scene_class])\n",
    "counts['total'] = len(ds.scene.data)"
   ]
  },
  {
   "cell_type": "code",
   "execution_count": 31,
   "metadata": {},
   "outputs": [
    {
     "ename": "NameError",
     "evalue": "name 'resolution' is not defined",
     "output_type": "error",
     "traceback": [
      "\u001b[0;31m---------------------------------------------------------------------------\u001b[0m",
      "\u001b[0;31mNameError\u001b[0m                                 Traceback (most recent call last)",
      "\u001b[0;32m<ipython-input-31-4bf139552636>\u001b[0m in \u001b[0;36m<module>\u001b[0;34m\u001b[0m\n\u001b[0;32m----> 1\u001b[0;31m \u001b[0mds\u001b[0m \u001b[0;34m=\u001b[0m \u001b[0mds\u001b[0m\u001b[0;34m.\u001b[0m\u001b[0massign_coords\u001b[0m\u001b[0;34m(\u001b[0m\u001b[0mtime\u001b[0m\u001b[0;34m=\u001b[0m\u001b[0mds\u001b[0m\u001b[0;34m.\u001b[0m\u001b[0mtime\u001b[0m\u001b[0;34m.\u001b[0m\u001b[0mdata\u001b[0m\u001b[0;34m.\u001b[0m\u001b[0mastype\u001b[0m\u001b[0;34m(\u001b[0m\u001b[0;34m\"datetime64[{}]\"\u001b[0m\u001b[0;34m.\u001b[0m\u001b[0mformat\u001b[0m\u001b[0;34m(\u001b[0m\u001b[0mresolution\u001b[0m\u001b[0;34m)\u001b[0m\u001b[0;34m)\u001b[0m\u001b[0;34m.\u001b[0m\u001b[0mastype\u001b[0m\u001b[0;34m(\u001b[0m\u001b[0mint\u001b[0m\u001b[0;34m)\u001b[0m\u001b[0;34m)\u001b[0m\u001b[0;34m\u001b[0m\u001b[0;34m\u001b[0m\u001b[0m\n\u001b[0m\u001b[1;32m      2\u001b[0m \u001b[0mds\u001b[0m\u001b[0;34m[\u001b[0m\u001b[0;34m\"time\"\u001b[0m\u001b[0;34m]\u001b[0m \u001b[0;34m=\u001b[0m \u001b[0mds\u001b[0m\u001b[0;34m[\u001b[0m\u001b[0;34m\"time\"\u001b[0m\u001b[0;34m]\u001b[0m\u001b[0;34m.\u001b[0m\u001b[0massign_attrs\u001b[0m\u001b[0;34m(\u001b[0m\u001b[0mtime_attrs\u001b[0m\u001b[0;34m)\u001b[0m\u001b[0;34m\u001b[0m\u001b[0;34m\u001b[0m\u001b[0m\n\u001b[1;32m      3\u001b[0m \u001b[0mds\u001b[0m\u001b[0;34m[\u001b[0m\u001b[0;34m\"time\"\u001b[0m\u001b[0;34m]\u001b[0m\u001b[0;34m.\u001b[0m\u001b[0mattrs\u001b[0m\u001b[0;34m[\u001b[0m\u001b[0;34m'units'\u001b[0m\u001b[0;34m]\u001b[0m \u001b[0;34m=\u001b[0m \u001b[0;34m'milliseconds after epoch'\u001b[0m\u001b[0;34m\u001b[0m\u001b[0;34m\u001b[0m\u001b[0m\n",
      "\u001b[0;31mNameError\u001b[0m: name 'resolution' is not defined"
     ]
    }
   ],
   "source": [
    "ds = ds.assign_coords(time=ds.time.data.astype(\"datetime64[{}]\".format(resolution)).astype(int))\n",
    "ds[\"time\"] = ds[\"time\"].assign_attrs(time_attrs)\n",
    "ds[\"time\"].attrs['units'] = 'milliseconds after epoch'"
   ]
  },
  {
   "cell_type": "code",
   "execution_count": 91,
   "metadata": {},
   "outputs": [
    {
     "name": "stdout",
     "output_type": "stream",
     "text": [
      "foc\n",
      "low_cloud\n",
      "mid_cloud\n",
      "high_cloud\n",
      "aer\n"
     ]
    },
    {
     "name": "stderr",
     "output_type": "stream",
     "text": [
      "<ipython-input-91-2be334bae513>:6: RuntimeWarning: All-NaN slice encountered\n",
      "  max_ext = np.nanmax(max_ext_profiles, axis=1)\n"
     ]
    }
   ],
   "source": [
    "# needs to convert time from int to date in order to use the resample method\n",
    "ds = ds.assign_coords(time = ds.time.data.astype(\"datetime64[ms]\"))\n",
    "max_ext_profiles = ds.extinction.resample(time=\"1H\").max().data\n",
    "\n",
    "# take the maximum value in each profile\n",
    "max_ext = np.nanmax(max_ext_profiles, axis=1)\n",
    "\n",
    "# attribute a weight to each scene in order to prioritize the scenes\n",
    "scene_weights = {'foc': 4, 'low_cloud': 3, 'mid_cloud': 2, 'high_cloud': 1, 'aer': 0}\n",
    "\n",
    "scene = np.asarray(ds.scene.data)\n",
    "for scene_weight in scene_weights.keys():\n",
    "    print(scene_weight)\n",
    "    scene[scene==scene_weight] = scene_weights[scene_weight]\n",
    "\n",
    "# creates dataarrays\n",
    "ds[\"weight_scene\"] = ('time', scene)\n",
    "# takes the highest weight for resampled data\n",
    "max_weight = ds.scene.resample(time=\"1H\").max().data\n",
    "avg_scene = []\n",
    "\n",
    "# reverse dictionnary\n",
    "weight_scenes = {v: k for k, v in scene_weights.items()}\n",
    "max_scenes = max_weight\n",
    "for weight_scene in weight_scenes.keys():\n",
    "    max_scenes[max_scenes==weight_scene] = weight_scenes[weight_scene]\n"
   ]
  },
  {
   "cell_type": "code",
   "execution_count": 80,
   "metadata": {},
   "outputs": [],
   "source": [
    "# creates dataarrays\n",
    "ds[\"weight_scene\"] = ('time', scene)\n",
    "# takes the highest weight for resampled data\n",
    "max_weight = ds.int_scene.resample(time=\"1H\").max().data\n",
    "avg_scene = []\n",
    "\n",
    "# reverse dictionnary\n",
    "weight_scenes = {v: k for k, v in scene_weights.items()}\n",
    "max_scenes = max_weight\n",
    "for weight_scene in weight_scenes.keys():\n",
    "    max_scenes[max_scenes==weight_scene] = weight_scenes[weight_scene]"
   ]
  },
  {
   "cell_type": "code",
   "execution_count": 87,
   "metadata": {},
   "outputs": [],
   "source": []
  },
  {
   "cell_type": "code",
   "execution_count": null,
   "metadata": {},
   "outputs": [],
   "source": []
  },
  {
   "cell_type": "code",
   "execution_count": null,
   "metadata": {},
   "outputs": [],
   "source": []
  }
 ],
 "metadata": {
  "interpreter": {
   "hash": "e02020c4110e134fe445d38a0992d067a36fbb91248f576be7988c732dbfe323"
  },
  "kernelspec": {
   "display_name": "Python 3.9.2 64-bit ('pya': conda)",
   "name": "python3"
  },
  "language_info": {
   "codemirror_mode": {
    "name": "ipython",
    "version": 3
   },
   "file_extension": ".py",
   "mimetype": "text/x-python",
   "name": "python",
   "nbconvert_exporter": "python",
   "pygments_lexer": "ipython3",
   "version": "3.9.2"
  },
  "orig_nbformat": 4
 },
 "nbformat": 4,
 "nbformat_minor": 2
}
