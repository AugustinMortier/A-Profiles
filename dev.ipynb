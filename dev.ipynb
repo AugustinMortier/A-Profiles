{
 "cells": [
  {
   "cell_type": "code",
   "execution_count": 3,
   "metadata": {},
   "outputs": [
    {
     "data": {
      "text/plain": [
       "<aprofiles.profiles.ProfilesData at 0x7f7e94458790>"
      ]
     },
     "execution_count": 3,
     "metadata": {},
     "output_type": "execute_result"
    }
   ],
   "source": [
    "import aprofiles as apro\n",
    "import numpy as np\n",
    "import matplotlib.pyplot as plt\n",
    "\n",
    "#path = \"examples/data/E-PROFILE/L2_0-20000-006735_A20210908.nc\"\n",
    "path = \"examples/data/E-PROFILE/L2_0-20000-001492_A20210909.nc\"\n",
    "apro_reader = apro.reader.ReadProfiles(path)\n",
    "profiles = apro_reader.read()\n",
    "\n",
    "#basic corrections\n",
    "profiles.extrapolate_below(z=300, inplace=True)\n",
    "#profiles.inversion(verbose=True)"
   ]
  },
  {
   "cell_type": "code",
   "execution_count": 4,
   "metadata": {},
   "outputs": [],
   "source": [
    "emc = apro.emc.EMCData(aer_type='urban', wavelength=532E-9)\n",
    "emc"
   ]
  },
  {
   "cell_type": "code",
   "execution_count": 1,
   "metadata": {},
   "outputs": [
    {
     "ename": "NameError",
     "evalue": "name 'emc' is not defined",
     "output_type": "error",
     "traceback": [
      "\u001b[0;31m---------------------------------------------------------------------------\u001b[0m",
      "\u001b[0;31mNameError\u001b[0m                                 Traceback (most recent call last)",
      "\u001b[0;32m<ipython-input-1-69407e37b192>\u001b[0m in \u001b[0;36m<module>\u001b[0;34m\u001b[0m\n\u001b[0;32m----> 1\u001b[0;31m \u001b[0memc\u001b[0m\u001b[0;34m\u001b[0m\u001b[0;34m\u001b[0m\u001b[0m\n\u001b[0m",
      "\u001b[0;31mNameError\u001b[0m: name 'emc' is not defined"
     ]
    }
   ],
   "source": [
    "emc"
   ]
  }
 ],
 "metadata": {
  "interpreter": {
   "hash": "e02020c4110e134fe445d38a0992d067a36fbb91248f576be7988c732dbfe323"
  },
  "kernelspec": {
   "display_name": "Python 3.9.2 64-bit ('pya': conda)",
   "name": "python3"
  },
  "language_info": {
   "codemirror_mode": {
    "name": "ipython",
    "version": 3
   },
   "file_extension": ".py",
   "mimetype": "text/x-python",
   "name": "python",
   "nbconvert_exporter": "python",
   "pygments_lexer": "ipython3",
   "version": "3.9.2"
  },
  "orig_nbformat": 4
 },
 "nbformat": 4,
 "nbformat_minor": 2
}
