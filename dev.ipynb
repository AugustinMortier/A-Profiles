{
 "cells": [
  {
   "cell_type": "code",
   "execution_count": 6,
   "source": [
    "import aprofiles as apro"
   ],
   "outputs": [],
   "metadata": {}
  },
  {
   "cell_type": "code",
   "execution_count": 8,
   "source": [
    "path = \"data/e-profile/2021/09/08/L2_0-20000-006735_A20210908.nc\"\n",
    "apro_reader = apro.reader.ReadProfiles(path)\n",
    "profiles = apro_reader.read()\n",
    "\n",
    "altitude = profiles.data.altitude.data\n",
    "wavelength = profiles.data.l0_wavelength.data"
   ],
   "outputs": [],
   "metadata": {}
  },
  {
   "cell_type": "code",
   "execution_count": 26,
   "source": [
    "import numpy as np\n",
    "def find_nearest(array, value):\n",
    "    array = np.asarray(array)\n",
    "    idx = (np.abs(array - value)).argmin()\n",
    "    return idx"
   ],
   "outputs": [],
   "metadata": {}
  },
  {
   "cell_type": "code",
   "execution_count": 254,
   "source": [
    "from scipy.interpolate import interp1d\n",
    "import math\n",
    "import matplotlib.pyplot as plt\n",
    "\n",
    "#standard values at sea level\n",
    "T0 = 298\n",
    "P0 = 1013\n",
    "        \n",
    "#standart gradients & parameters\n",
    "atmo = {\n",
    "    'tropo': {\n",
    "        'zmin': 0,\n",
    "        'zmax': 13,\n",
    "        'dTdz': -6.5\n",
    "    },\n",
    "    'strato': {\n",
    "        'zmin': 13,\n",
    "        'zmax': 55,\n",
    "        'dTdz': 1.4\n",
    "    },\n",
    "    'meso': {\n",
    "        'zmin': 55,\n",
    "        'zmax': 100,\n",
    "        'dTdz': -2.4\n",
    "    }\n",
    "}\n",
    "\n",
    "p_He = 8;\n",
    "\n",
    "#convert pressure from hPa to Pa\n",
    "p_z0 = P0*100;\n",
    "#convert altitude to km\n",
    "z = altitude/1000;\n",
    "\n",
    "#vertical resolution\n",
    "dz = min(z[1:]-z[0:-1])\n",
    "\n",
    "#temperature profile\n",
    "Tz = [T0]\n",
    "for layer in atmo.keys():\n",
    "    ibottom = int(np.floor(atmo[layer]['zmin']/dz))\n",
    "    itop = int(np.floor(atmo[layer]['zmax']/dz))\n",
    "    for i in range(ibottom,itop):\n",
    "        Tz.append(Tz[ibottom]+(i-ibottom)*atmo[layer]['dTdz']*dz)\n",
    "\n",
    "#vertical coordinates for temperature\n",
    "z_Tz = np.arange(0,100,dz)\n",
    "\n",
    "#pressure profile\n",
    "Pz=p_z0*np.exp(-z_Tz/p_He);\n",
    "\n",
    "#Number of molecules\n",
    "N_m=np.divide(Pz,(8.314/np.multiply(6.023e23,Tz)));\n",
    "#molecular section\n",
    "section_m=5.45*np.power(550/wavelength,4.09)*1e-32;\n",
    "\n",
    "#backscatter profile\n",
    "bmol=N_m*section_m;\n",
    "#extinction profile\n",
    "amol=8.0*math.pi*bmol/3.0;\n",
    "\n",
    "#colocate vertically to input altitude\n",
    "imin = np.argmin(np.abs(np.array(z_Tz)-z[0]))\n",
    "imax = imin+len(z)\n",
    "\n",
    "self_t = Tz[imin:imax]\n",
    "self_p = Pz[imin:imax]\n",
    "self_bmol = bmol[imin:imax]\n",
    "self_amol = amol[imin:imax]"
   ],
   "outputs": [],
   "metadata": {}
  },
  {
   "cell_type": "code",
   "execution_count": 256,
   "source": [
    "temperature = self_t\n",
    "pressure = self_p\n",
    "backscatter = self_bmol\n",
    "extinction = self_amol"
   ],
   "outputs": [],
   "metadata": {}
  },
  {
   "cell_type": "code",
   "execution_count": 277,
   "source": [
    "import xarray as xr\n",
    "#creates dataset\n",
    "ds = xr.Dataset(\n",
    "    data_vars=dict(\n",
    "        temperature=([\"altitude\"], temperature,{'units': 'K','long_name': 'standard temperature'}),\n",
    "        pressure=([\"altitude\"], pressure,{'units': 'Pa','long_name': 'standard pressure'}),\n",
    "        backscatter=([\"altitude\"], backscatter,{'units': 'km-1.sr-1','long_name': 'rayleigh backscater at {} nm in a standard atmosphere'.format(wavelength)}),\n",
    "        extinction=([\"altitude\"], extinction,{'units': 'km-1','long_name': 'rayleigh extinction at {} nm in a standard atmosphere'.format(wavelength)})\n",
    "    ),\n",
    "    coords=dict(\n",
    "        altitude=altitude,\n",
    "    ),\n",
    "    attrs=dict(description=\"Standard Rayleigh Profile.\"),\n",
    ")"
   ],
   "outputs": [],
   "metadata": {}
  },
  {
   "cell_type": "code",
   "execution_count": 278,
   "source": [
    "ds.backscatter"
   ],
   "outputs": [
    {
     "output_type": "execute_result",
     "data": {
      "text/plain": [
       "<xarray.DataArray 'backscatter' (altitude: 257)>\n",
       "array([0.01247 , 0.012415, 0.01236 , ..., 0.003988, 0.00397 , 0.003952])\n",
       "Coordinates:\n",
       "  * altitude  (altitude) float64 1.337e+03 1.367e+03 ... 8.986e+03 9.016e+03\n",
       "Attributes:\n",
       "    units:      Mm-1.sr-1\n",
       "    long_name:  rayleigh backscater at 910.0 nm in a standard atmosphere"
      ]
     },
     "metadata": {},
     "execution_count": 278
    }
   ],
   "metadata": {}
  },
  {
   "cell_type": "code",
   "execution_count": 228,
   "source": [
    "z_Tz[1]-z_Tz[0]"
   ],
   "outputs": [
    {
     "output_type": "execute_result",
     "data": {
      "text/plain": [
       "0.0008999528271136556"
      ]
     },
     "metadata": {},
     "execution_count": 228
    }
   ],
   "metadata": {}
  },
  {
   "cell_type": "code",
   "execution_count": 223,
   "source": [
    "z[1]-z[0]"
   ],
   "outputs": [
    {
     "output_type": "execute_result",
     "data": {
      "text/plain": [
       "0.029995427727699253"
      ]
     },
     "metadata": {},
     "execution_count": 223
    }
   ],
   "metadata": {}
  },
  {
   "cell_type": "code",
   "execution_count": 230,
   "source": [],
   "outputs": [
    {
     "output_type": "execute_result",
     "data": {
      "text/plain": [
       "array([0.00000000e+00, 2.99954277e-02, 5.99908555e-02, ...,\n",
       "       9.99147698e+01, 9.99447652e+01, 9.99747606e+01])"
      ]
     },
     "metadata": {},
     "execution_count": 230
    }
   ],
   "metadata": {}
  },
  {
   "cell_type": "code",
   "execution_count": 232,
   "source": [
    "plt.plot(Tz,z_Tz,'b')\n",
    "plt.plot(Pz/100,z_Tz,'r')\n",
    "plt.plot(N_m*1e-27,z_Tz,'g')\n",
    "\n",
    "plt.plot(bmol*1e4,z_Tz,'k')\n",
    "plt.plot(amol*1e4,z_Tz,'k:')"
   ],
   "outputs": [
    {
     "output_type": "execute_result",
     "data": {
      "text/plain": [
       "[<matplotlib.lines.Line2D at 0x7fe4b4ed49d0>]"
      ]
     },
     "metadata": {},
     "execution_count": 232
    },
    {
     "output_type": "display_data",
     "data": {
      "image/png": "[encoded data removed]",
      "text/plain": [
       "<Figure size 432x288 with 1 Axes>"
      ]
     },
     "metadata": {
      "needs_background": "light"
     }
    }
   ],
   "metadata": {}
  },
  {
   "cell_type": "code",
   "execution_count": 237,
   "source": [
    "plt.plot(self_bmol,altitude)"
   ],
   "outputs": [
    {
     "output_type": "execute_result",
     "data": {
      "text/plain": [
       "[<matplotlib.lines.Line2D at 0x7fe4b4e29590>]"
      ]
     },
     "metadata": {},
     "execution_count": 237
    },
    {
     "output_type": "display_data",
     "data": {
      "image/png": "[encoded data removed]",
      "text/plain": [
       "<Figure size 432x288 with 1 Axes>"
      ]
     },
     "metadata": {
      "needs_background": "light"
     }
    }
   ],
   "metadata": {}
  },
  {
   "cell_type": "code",
   "execution_count": 195,
   "source": [
    "np.argmin(10-[0,5,10,15,20])"
   ],
   "outputs": [
    {
     "output_type": "error",
     "ename": "TypeError",
     "evalue": "unsupported operand type(s) for -: 'int' and 'list'",
     "traceback": [
      "\u001b[0;31m---------------------------------------------------------------------------\u001b[0m",
      "\u001b[0;31mTypeError\u001b[0m                                 Traceback (most recent call last)",
      "\u001b[0;32m<ipython-input-195-08873ac8a28d>\u001b[0m in \u001b[0;36m<module>\u001b[0;34m\u001b[0m\n\u001b[0;32m----> 1\u001b[0;31m \u001b[0mnp\u001b[0m\u001b[0;34m.\u001b[0m\u001b[0margmin\u001b[0m\u001b[0;34m(\u001b[0m\u001b[0;36m10\u001b[0m\u001b[0;34m-\u001b[0m\u001b[0;34m[\u001b[0m\u001b[0;36m0\u001b[0m\u001b[0;34m,\u001b[0m\u001b[0;36m5\u001b[0m\u001b[0;34m,\u001b[0m\u001b[0;36m10\u001b[0m\u001b[0;34m,\u001b[0m\u001b[0;36m15\u001b[0m\u001b[0;34m,\u001b[0m\u001b[0;36m20\u001b[0m\u001b[0;34m]\u001b[0m\u001b[0;34m)\u001b[0m\u001b[0;34m\u001b[0m\u001b[0;34m\u001b[0m\u001b[0m\n\u001b[0m",
      "\u001b[0;31mTypeError\u001b[0m: unsupported operand type(s) for -: 'int' and 'list'"
     ]
    }
   ],
   "metadata": {}
  },
  {
   "cell_type": "code",
   "execution_count": 200,
   "source": [
    "np.argmin(np.abs(np.array([0,5,10,15,20])-10))"
   ],
   "outputs": [
    {
     "output_type": "execute_result",
     "data": {
      "text/plain": [
       "2"
      ]
     },
     "metadata": {},
     "execution_count": 200
    }
   ],
   "metadata": {}
  },
  {
   "cell_type": "code",
   "execution_count": null,
   "source": [],
   "outputs": [],
   "metadata": {}
  }
 ],
 "metadata": {
  "orig_nbformat": 4,
  "language_info": {
   "name": "python",
   "version": "3.7.6",
   "mimetype": "text/x-python",
   "codemirror_mode": {
    "name": "ipython",
    "version": 3
   },
   "pygments_lexer": "ipython3",
   "nbconvert_exporter": "python",
   "file_extension": ".py"
  },
  "kernelspec": {
   "name": "python3",
   "display_name": "Python 3.7.6 64-bit ('base': conda)"
  },
  "interpreter": {
   "hash": "1ecea86ce23ca560b4fc5412ba3b391e3feea4430948873bd295b73c8d382577"
  }
 },
 "nbformat": 4,
 "nbformat_minor": 2
}