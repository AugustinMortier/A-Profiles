{
 "cells": [
  {
   "cell_type": "code",
   "execution_count": 13,
   "metadata": {},
   "outputs": [],
   "source": [
    "import os\n",
    "import time\n",
    "\n",
    "import aprofiles as apro\n",
    "import numpy as np\n",
    "import xarray as xr\n",
    "\n",
    "start_time = time.time()\n",
    "\n",
    "BASE_DIR_OUT = 'data/v-profiles'\n",
    "date = '2021-09-09'\n",
    "yyyy = date.split('-')[0]\n",
    "mm = date.split('-')[1]\n",
    "dd = date.split('-')[2]"
   ]
  },
  {
   "cell_type": "code",
   "execution_count": 4,
   "metadata": {},
   "outputs": [],
   "source": [
    "datepath = os.path.join(BASE_DIR_OUT,yyyy,mm,dd)\n",
    "onlyfiles = [f for f in os.listdir(datepath) if os.path.isfile(os.path.join(datepath, f))]"
   ]
  },
  {
   "cell_type": "code",
   "execution_count": 5,
   "metadata": {},
   "outputs": [],
   "source": [
    "filename = onlyfiles[0]\n",
    "ds = xr.open_dataset(os.path.join(datepath, filename), decode_times=True)"
   ]
  },
  {
   "cell_type": "code",
   "execution_count": 20,
   "metadata": {},
   "outputs": [],
   "source": [
    "def get_lowest_clouds(ds):\n",
    "    # returns an array of the altitude (in m, ASL) of the lowest cloud for each timestamp\n",
    "\n",
    "    def _get_true_indexes(mask):\n",
    "        # mask: list of Bool\n",
    "        # returns a list indexes where the mask is True\n",
    "        return [i for i, x in enumerate(mask) if x]\n",
    "\n",
    "    lowest_clouds = []\n",
    "    for i in np.arange(len(ds.time.data)):\n",
    "        i_clouds = _get_true_indexes(ds.clouds_bases.data[i, :])\n",
    "        if len(i_clouds) > 0:\n",
    "            lowest_clouds.append(ds.altitude.data[i_clouds[0]])\n",
    "        else:\n",
    "            lowest_clouds.append(np.nan)\n",
    "\n",
    "    return np.asarray(lowest_clouds)"
   ]
  },
  {
   "cell_type": "code",
   "execution_count": 24,
   "metadata": {},
   "outputs": [],
   "source": [
    "lowest_clouds = get_lowest_clouds(ds)\n",
    "low_level_mask = lowest_clouds<=6000"
   ]
  },
  {
   "cell_type": "code",
   "execution_count": 34,
   "metadata": {},
   "outputs": [],
   "source": [
    "scene = []\n",
    "for i, lowest_cloud in enumerate(lowest_clouds):\n",
    "    if lowest_cloud<=6000:\n",
    "        scene.append('cloud<6km')\n",
    "    elif lowest_cloud>6000:\n",
    "        scene.append('cloud>6km')\n",
    "    else:\n",
    "        scene.append('aer')\n",
    "    # overwrite result based on foc\n",
    "    if ds.foc.data[i]:\n",
    "        scene[i] = 'foc'"
   ]
  },
  {
   "cell_type": "code",
   "execution_count": 36,
   "metadata": {},
   "outputs": [
    {
     "data": {
      "text/plain": [
       "array([False, False, False, False, False, False, False, False, False,\n",
       "       False, False, False, False, False, False, False, False, False,\n",
       "       False, False, False, False, False, False, False, False, False,\n",
       "       False, False, False, False, False, False, False, False, False,\n",
       "       False, False, False, False, False, False, False, False, False,\n",
       "       False, False, False, False, False, False, False, False, False,\n",
       "       False, False, False, False, False, False, False, False, False,\n",
       "       False, False, False, False, False, False, False, False, False,\n",
       "       False, False, False, False, False, False, False, False, False,\n",
       "       False, False, False, False, False, False, False, False, False,\n",
       "       False, False, False, False, False, False, False, False, False,\n",
       "       False, False, False, False, False, False, False, False, False,\n",
       "       False, False, False, False, False, False, False, False, False,\n",
       "       False, False, False, False, False, False, False, False, False,\n",
       "       False, False, False, False, False, False, False, False, False,\n",
       "       False, False, False, False, False, False, False, False, False,\n",
       "       False, False, False, False, False, False, False, False, False,\n",
       "       False, False, False, False, False, False, False, False, False,\n",
       "       False, False, False, False, False, False, False, False, False,\n",
       "       False, False, False, False, False, False, False, False, False,\n",
       "       False, False, False, False, False, False, False, False, False,\n",
       "       False, False, False, False, False, False, False, False, False,\n",
       "       False, False, False, False, False, False, False, False, False,\n",
       "       False, False, False, False, False, False, False, False, False,\n",
       "       False, False, False, False, False, False, False, False, False,\n",
       "       False, False, False, False, False, False, False, False, False,\n",
       "       False, False, False, False, False, False, False, False, False,\n",
       "       False, False, False, False, False, False, False, False, False,\n",
       "       False, False, False, False, False, False, False, False, False,\n",
       "       False, False, False, False, False, False, False, False, False,\n",
       "       False, False, False, False, False, False, False, False, False,\n",
       "       False, False, False, False, False, False, False, False, False])"
      ]
     },
     "execution_count": 36,
     "metadata": {},
     "output_type": "execute_result"
    }
   ],
   "source": [
    "ds.foc.data"
   ]
  },
  {
   "cell_type": "code",
   "execution_count": null,
   "metadata": {},
   "outputs": [],
   "source": []
  }
 ],
 "metadata": {
  "interpreter": {
   "hash": "e02020c4110e134fe445d38a0992d067a36fbb91248f576be7988c732dbfe323"
  },
  "kernelspec": {
   "display_name": "Python 3.9.2 64-bit ('pya': conda)",
   "name": "python3"
  },
  "language_info": {
   "codemirror_mode": {
    "name": "ipython",
    "version": 3
   },
   "file_extension": ".py",
   "mimetype": "text/x-python",
   "name": "python",
   "nbconvert_exporter": "python",
   "pygments_lexer": "ipython3",
   "version": "3.9.2"
  },
  "orig_nbformat": 4
 },
 "nbformat": 4,
 "nbformat_minor": 2
}
