{
 "cells": [
  {
   "cell_type": "code",
   "execution_count": 2,
   "source": [
    "import matplotlib.pyplot as plt\n",
    "plt.rcParams['figure.figsize'] = [10, 5]"
   ],
   "outputs": [],
   "metadata": {}
  },
  {
   "cell_type": "code",
   "execution_count": 3,
   "source": [
    "import aprofiles as apro\n",
    "import numpy as np\n",
    "import matplotlib.pyplot as plt\n",
    "\n",
    "path = \"data/e-profile/2021/09/08/L2_0-20000-006735_A20210908.nc\"\n",
    "path = \"data/e-profile/2021/09/09/L2_0-20000-001492_A20210909.nc\"\n",
    "apro_reader = apro.reader.ReadProfiles(path)\n",
    "profiles = apro_reader.read()\n",
    "\n",
    "profiles.range_correction(inplace=True)\n",
    "profiles.gaussian_filter(sigma=0.0, inplace=True)\n",
    "profiles.plot(zmin=0, zmax=15000, vmin=1e1, vmax=1e5, log=True, cmap='viridis')"
   ],
   "outputs": [
    {
     "output_type": "error",
     "ename": "AttributeError",
     "evalue": "'numpy.ndarray' object has no attribute 'time'",
     "traceback": [
      "\u001b[0;31m---------------------------------------------------------------------------\u001b[0m",
      "\u001b[0;31mAttributeError\u001b[0m                            Traceback (most recent call last)",
      "\u001b[0;32m<ipython-input-3-abb4a70b73c9>\u001b[0m in \u001b[0;36m<module>\u001b[0;34m\u001b[0m\n\u001b[1;32m     10\u001b[0m \u001b[0mprofiles\u001b[0m\u001b[0;34m.\u001b[0m\u001b[0mrange_correction\u001b[0m\u001b[0;34m(\u001b[0m\u001b[0minplace\u001b[0m\u001b[0;34m=\u001b[0m\u001b[0;32mTrue\u001b[0m\u001b[0;34m)\u001b[0m\u001b[0;34m\u001b[0m\u001b[0;34m\u001b[0m\u001b[0m\n\u001b[1;32m     11\u001b[0m \u001b[0mprofiles\u001b[0m\u001b[0;34m.\u001b[0m\u001b[0mgaussian_filter\u001b[0m\u001b[0;34m(\u001b[0m\u001b[0msigma\u001b[0m\u001b[0;34m=\u001b[0m\u001b[0;36m0.0\u001b[0m\u001b[0;34m,\u001b[0m \u001b[0minplace\u001b[0m\u001b[0;34m=\u001b[0m\u001b[0;32mTrue\u001b[0m\u001b[0;34m)\u001b[0m\u001b[0;34m\u001b[0m\u001b[0;34m\u001b[0m\u001b[0m\n\u001b[0;32m---> 12\u001b[0;31m \u001b[0mprofiles\u001b[0m\u001b[0;34m.\u001b[0m\u001b[0mplot\u001b[0m\u001b[0;34m(\u001b[0m\u001b[0mzmin\u001b[0m\u001b[0;34m=\u001b[0m\u001b[0;36m0\u001b[0m\u001b[0;34m,\u001b[0m \u001b[0mzmax\u001b[0m\u001b[0;34m=\u001b[0m\u001b[0;36m15000\u001b[0m\u001b[0;34m,\u001b[0m \u001b[0mvmin\u001b[0m\u001b[0;34m=\u001b[0m\u001b[0;36m1e1\u001b[0m\u001b[0;34m,\u001b[0m \u001b[0mvmax\u001b[0m\u001b[0;34m=\u001b[0m\u001b[0;36m1e5\u001b[0m\u001b[0;34m,\u001b[0m \u001b[0mlog\u001b[0m\u001b[0;34m=\u001b[0m\u001b[0;32mTrue\u001b[0m\u001b[0;34m,\u001b[0m \u001b[0mcmap\u001b[0m\u001b[0;34m=\u001b[0m\u001b[0;34m'viridis'\u001b[0m\u001b[0;34m)\u001b[0m\u001b[0;34m\u001b[0m\u001b[0;34m\u001b[0m\u001b[0m\n\u001b[0m",
      "\u001b[0;32m~/dev/a-profiles/aprofiles/profilesdata.py\u001b[0m in \u001b[0;36mplot\u001b[0;34m(self, var, time, zmin, zmax, vmin, vmax, log, show_fog, show_pbl, show_clouds, cmap)\u001b[0m\n\u001b[1;32m    453\u001b[0m         \"\"\"\n\u001b[1;32m    454\u001b[0m         \u001b[0;32mif\u001b[0m \u001b[0mtime\u001b[0m\u001b[0;34m==\u001b[0m\u001b[0;32mNone\u001b[0m\u001b[0;34m:\u001b[0m\u001b[0;34m\u001b[0m\u001b[0;34m\u001b[0m\u001b[0m\n\u001b[0;32m--> 455\u001b[0;31m             \u001b[0mapro\u001b[0m\u001b[0;34m.\u001b[0m\u001b[0mplot\u001b[0m\u001b[0;34m.\u001b[0m\u001b[0mimage\u001b[0m\u001b[0;34m.\u001b[0m\u001b[0mplot_image\u001b[0m\u001b[0;34m(\u001b[0m\u001b[0mself\u001b[0m\u001b[0;34m.\u001b[0m\u001b[0mdata\u001b[0m\u001b[0;34m[\u001b[0m\u001b[0mvar\u001b[0m\u001b[0;34m]\u001b[0m\u001b[0;34m,\u001b[0m \u001b[0mzmin\u001b[0m\u001b[0;34m=\u001b[0m\u001b[0mzmin\u001b[0m\u001b[0;34m,\u001b[0m \u001b[0mzmax\u001b[0m\u001b[0;34m=\u001b[0m\u001b[0mzmax\u001b[0m\u001b[0;34m,\u001b[0m \u001b[0mvmin\u001b[0m\u001b[0;34m=\u001b[0m\u001b[0mvmin\u001b[0m\u001b[0;34m,\u001b[0m \u001b[0mvmax\u001b[0m\u001b[0;34m=\u001b[0m\u001b[0mvmax\u001b[0m\u001b[0;34m,\u001b[0m \u001b[0mlog\u001b[0m\u001b[0;34m=\u001b[0m\u001b[0mlog\u001b[0m\u001b[0;34m,\u001b[0m \u001b[0mshow_fog\u001b[0m\u001b[0;34m=\u001b[0m\u001b[0mshow_fog\u001b[0m\u001b[0;34m,\u001b[0m \u001b[0mshow_pbl\u001b[0m\u001b[0;34m=\u001b[0m\u001b[0mshow_pbl\u001b[0m\u001b[0;34m,\u001b[0m \u001b[0mshow_clouds\u001b[0m\u001b[0;34m=\u001b[0m\u001b[0mshow_clouds\u001b[0m\u001b[0;34m,\u001b[0m \u001b[0mcmap\u001b[0m\u001b[0;34m=\u001b[0m\u001b[0mcmap\u001b[0m\u001b[0;34m)\u001b[0m\u001b[0;34m\u001b[0m\u001b[0;34m\u001b[0m\u001b[0m\n\u001b[0m\u001b[1;32m    456\u001b[0m \u001b[0;34m\u001b[0m\u001b[0m\n\u001b[1;32m    457\u001b[0m \u001b[0;34m\u001b[0m\u001b[0m\n",
      "\u001b[0;32m~/dev/a-profiles/aprofiles/plot/image.py\u001b[0m in \u001b[0;36mplot_image\u001b[0;34m(da, var, zmin, zmax, vmin, vmax, log, show_fog, show_pbl, show_clouds, cmap)\u001b[0m\n\u001b[1;32m     27\u001b[0m \u001b[0;34m\u001b[0m\u001b[0m\n\u001b[1;32m     28\u001b[0m     \u001b[0;31m#plot image\u001b[0m\u001b[0;34m\u001b[0m\u001b[0;34m\u001b[0m\u001b[0;34m\u001b[0m\u001b[0m\n\u001b[0;32m---> 29\u001b[0;31m     \u001b[0mtime\u001b[0m \u001b[0;34m=\u001b[0m \u001b[0mda\u001b[0m\u001b[0;34m.\u001b[0m\u001b[0mdata\u001b[0m\u001b[0;34m.\u001b[0m\u001b[0mtime\u001b[0m\u001b[0;34m.\u001b[0m\u001b[0mdata\u001b[0m\u001b[0;34m\u001b[0m\u001b[0;34m\u001b[0m\u001b[0m\n\u001b[0m\u001b[1;32m     30\u001b[0m     \u001b[0maltitude\u001b[0m \u001b[0;34m=\u001b[0m \u001b[0mda\u001b[0m\u001b[0;34m.\u001b[0m\u001b[0mdata\u001b[0m\u001b[0;34m.\u001b[0m\u001b[0maltitude\u001b[0m\u001b[0;34m.\u001b[0m\u001b[0mdata\u001b[0m \u001b[0;34m-\u001b[0m \u001b[0mda\u001b[0m\u001b[0;34m.\u001b[0m\u001b[0mdata\u001b[0m\u001b[0;34m.\u001b[0m\u001b[0mstation_altitude\u001b[0m\u001b[0;34m.\u001b[0m\u001b[0mdata\u001b[0m\u001b[0;34m\u001b[0m\u001b[0;34m\u001b[0m\u001b[0m\n\u001b[1;32m     31\u001b[0m     \u001b[0mC\u001b[0m \u001b[0;34m=\u001b[0m \u001b[0mnp\u001b[0m\u001b[0;34m.\u001b[0m\u001b[0mtranspose\u001b[0m\u001b[0;34m(\u001b[0m\u001b[0mda\u001b[0m\u001b[0;34m.\u001b[0m\u001b[0mdata\u001b[0m\u001b[0;34m[\u001b[0m\u001b[0mvar\u001b[0m\u001b[0;34m]\u001b[0m\u001b[0;34m.\u001b[0m\u001b[0mvalues\u001b[0m\u001b[0;34m)\u001b[0m\u001b[0;34m\u001b[0m\u001b[0;34m\u001b[0m\u001b[0m\n",
      "\u001b[0;31mAttributeError\u001b[0m: 'numpy.ndarray' object has no attribute 'time'"
     ]
    }
   ],
   "metadata": {}
  },
  {
   "cell_type": "code",
   "execution_count": 7,
   "source": [],
   "outputs": [
    {
     "output_type": "execute_result",
     "data": {
      "text/plain": [
       "<xarray.DataArray 'time' (time: 273)>\n",
       "array(['2021-09-09T00:00:04.000000000', '2021-09-09T00:05:04.000000000',\n",
       "       '2021-09-09T00:10:04.000000000', ..., '2021-09-09T23:45:06.000000000',\n",
       "       '2021-09-09T23:50:06.000000000', '2021-09-09T23:55:06.000000000'],\n",
       "      dtype='datetime64[ns]')\n",
       "Coordinates:\n",
       "  * time     (time) datetime64[ns] 2021-09-09T00:00:04 ... 2021-09-09T23:55:06\n",
       "Attributes:\n",
       "    long_name:      Time (UTC) of the calibration period\n",
       "    standard_name:  time"
      ]
     },
     "metadata": {},
     "execution_count": 7
    }
   ],
   "metadata": {}
  },
  {
   "cell_type": "code",
   "execution_count": 388,
   "source": [
    "#clouds detection\n",
    "\n",
    "#make sure some corrections have been done before\n",
    "if not profiles.data.attenuated_backscatter_0.attrs['range correction']==True:\n",
    "    print('The range correction has not been applied to backscatter profiles')\n",
    "\n",
    "\n",
    "#we work on profiles  averaged in time to reduce the noise\n",
    "rcs = profiles.data.attenuated_backscatter_0\n",
    "t_avg = 5 * 60 #s\n",
    "#time resolution in profiles data\n",
    "dt_s = min(np.diff(profiles.data.time.data)).astype('timedelta64[s]').astype(int)\n",
    "\n",
    "#number of timestamps to be to averaged\n",
    "nt_avg = max([1,round(t_avg/dt_s)])\n",
    "rcs = rcs.rolling(time=nt_avg, min_periods=1, center=True).median()"
   ],
   "outputs": [],
   "metadata": {}
  },
  {
   "cell_type": "code",
   "execution_count": 1058,
   "source": [
    "from scipy import signal\n",
    "from scipy.ndimage.filters import uniform_filter1d\n",
    "\n",
    "def detect_clouds(data, thr_noise=5, thr_clouds = 1.5):\n",
    "    #data: 1D range corrected signal data \n",
    "    #thr_noise = 10 #threshold used in the test to determine if a couple (base,peak) is significant: data[peak(z)] - data[base(z)] >= thr_noise * noise(z)\n",
    "    #thr_clouds = 1.5 #threshold used to discriminate aerosol from clouds: data[peak(z)] / data[base(z)] >= thr_clouds\n",
    "    \n",
    "    #some useful functions:\n",
    "    def get_indexes(mask):\n",
    "        #mask: list of Bool\n",
    "        #returns a list indexes where the mask is True\n",
    "        return [i for i, x in enumerate(mask) if x]\n",
    "    \n",
    "    def make_mask(length, indexes_where_True):\n",
    "        #length: int: length of the mask\n",
    "        #indexes_where_true: list\n",
    "        mask = np.array([False for x in np.ones(length)])\n",
    "        mask[indexes_where_True] = len(indexes_where_True)*[True]\n",
    "        return mask\n",
    "\n",
    "    #0. rolling average\n",
    "    avg_data = uniform_filter1d(data, size=3)\n",
    "\n",
    "\n",
    "    #1. first derivative\n",
    "    ddata_dz = np.diff(data, prepend=0)\n",
    "\n",
    "\n",
    "    #2. identifies peaks and base by checking the sign changes of the derivative\n",
    "    sign_changes = np.diff(np.sign(ddata_dz), append=0)\n",
    "    all_bases = sign_changes==2\n",
    "    all_peaks = sign_changes==-2\n",
    "    #get indexes\n",
    "    i_bases = get_indexes(all_bases)\n",
    "    i_peaks = get_indexes(all_peaks)\n",
    "\n",
    "\n",
    "    #3. the signal should start with a base\n",
    "    if i_bases[0]>i_peaks[0] and i_peaks[0]>=1:\n",
    "        #set base as the minimum between peak and n gates under\n",
    "        gates = np.arange(i_peaks[0]-5,i_peaks[0])\n",
    "        i_base = np.argmin([data[gates[gates>=0]]])\n",
    "        all_bases[i_base]=True\n",
    "    #update indexes\n",
    "    i_bases = get_indexes(all_bases)\n",
    "\n",
    "    \n",
    "    #4. keeps significant couples (base,peak)\n",
    "    # a layer can be considered as a proper layer if the difference of signal between the peak and the base is significant (larger than the noise level)\n",
    "    # noise evaluation (using a high passing frequency filter)\n",
    "    b, a = signal.butter(1, 0.3, btype='high')\n",
    "    noise = signal.filtfilt(b, a, data)\n",
    "    #rolling average of the noise\n",
    "    avg_abs_noise = uniform_filter1d(abs_noise, size=100)\n",
    "    #make sure we have as many peaks as bases\n",
    "    if len(i_peaks)!=len(i_bases):\n",
    "        min_len = min([len(i_peaks),len(i_bases)])\n",
    "        i_peaks = i_peaks[0:min_len]\n",
    "        i_bases = i_bases[0:min_len]\n",
    "        \n",
    "\n",
    "    # data[peak(z)] - data[base(z)] >= thr_noise * noise(z)\n",
    "    bases, peaks = all_bases, all_peaks\n",
    "    for i, _ in enumerate(i_bases):\n",
    "        #data_around_peak = np.mean(data[i_peaks[i]-1:i_peaks[i]+1])\n",
    "        #data_around_base = np.mean(data[i_bases[i]-1:i_bases[i]+1])\n",
    "        data_around_peak = avg_data[i_peaks[i]]\n",
    "        data_around_base = avg_data[i_bases[i]]\n",
    "        if data_around_peak - data_around_base <= thr_noise * avg_abs_noise[i_bases[i]]:\n",
    "            bases[i_bases[i]] = False\n",
    "            peaks[i_peaks[i]] = False\n",
    "    #get indexes\n",
    "    i_bases = get_indexes(bases)\n",
    "    i_peaks = get_indexes(peaks)\n",
    "\n",
    "\n",
    "    #5. make sure we finish by a peak: remove last base \n",
    "    if len(i_bases)>len(i_peaks):\n",
    "        bases[i_bases[-1]] = False\n",
    "        i_bases.pop()\n",
    "\n",
    "    #6. distinction between aerosol and clouds\n",
    "    for i, _ in enumerate(i_bases):\n",
    "        data_around_peak = data[i_peaks[i]]\n",
    "        data_around_base = data[i_bases[i]]\n",
    "        if abs((data_around_peak - data_around_base) / data_around_base) <= thr_clouds:\n",
    "            bases[i_bases[i]] = False\n",
    "            peaks[i_peaks[i]] = False\n",
    "    #get indexes\n",
    "    i_bases = get_indexes(bases)\n",
    "    i_peaks = get_indexes(peaks)\n",
    "    \n",
    "\n",
    "    #7. find tops of clouds layers\n",
    "    tops = np.array([False for x in np.ones(len(data))])\n",
    "    # conditions: look for bases above i_peaks[i], and data[top[i]] <= data[base[i]]\n",
    "    for i, _ in enumerate(i_bases):\n",
    "        mask_value = np.array(data<data[i_bases[i]])\n",
    "        mask_altitude = np.array([False for x in np.ones(len(data))])\n",
    "        mask_altitude[i_bases[i]:] = True\n",
    "        #the top is the first value that corresponds to the intersection of the two masks\n",
    "        cross_mask = np.logical_and(mask_value, mask_altitude)\n",
    "        i_cross_mask = get_indexes(cross_mask)\n",
    "        if len(i_cross_mask)>0:\n",
    "            if tops[i_cross_mask[0]]:\n",
    "                #print('top already found. remove current layer')\n",
    "                bases[i_bases[i]] = False\n",
    "                peaks[i_peaks[i]] = False    \n",
    "            else:\n",
    "                #print('found top at ',i_cross_mask[0], 'for base ',i_bases[i])\n",
    "                tops[i_cross_mask[0]] = True\n",
    "        else:\n",
    "            #print('no top found for base',i_bases[i])\n",
    "            bases[i_bases[i]] = False\n",
    "            peaks[i_peaks[i]] = False\n",
    "\n",
    "    #get indexes\n",
    "    i_bases = get_indexes(bases)\n",
    "    i_peaks = get_indexes(peaks)\n",
    "    i_tops = get_indexes(tops)\n",
    "\n",
    "    \n",
    "    #8. merge layers: just focus on bases and tops\n",
    "    #drop layer if base of next layer below top of current layer top of current layer\n",
    "    for i in np.arange(len(i_bases)-1):\n",
    "        if i<len(i_bases)-1 and i_bases[i+1]<=i_tops[i]:\n",
    "            i_bases.remove(i_bases[i+1])\n",
    "            i_tops.remove(i_tops[i])\n",
    "\n",
    "    \n",
    "    #9. rebuild base and top masks\n",
    "    bases = make_mask(len(data), i_bases)\n",
    "    peaks = make_mask(len(data), [])\n",
    "    tops = make_mask(len(data), i_tops)\n",
    "    #find peaks between bases and tops\n",
    "    for i in np.arange(len(i_bases)):\n",
    "        peaks[i_bases[i]+np.argmax(data[i_bases[i]:i_tops[i]])] = True\n",
    "    #get new indexes\n",
    "    i_peaks = get_indexes(peaks)\n",
    "    \n",
    "    \"\"\"\n",
    "    #some plotting\n",
    "    fig, axs = plt.subplots(1,2,figsize=(10,10))\n",
    "    \n",
    "    ymin, ymax = 000, 15000\n",
    "    altitude_agl = profiles.data.altitude.data - profiles.data.station_altitude.data\n",
    "    \n",
    "    #signal on the left\n",
    "    axs[0].plot(data, altitude_agl, 'b', label='rcs')\n",
    "    axs[0].plot(avg_data, altitude_agl, 'c', label='rcs')\n",
    "    axs[0].plot(avg_abs_noise,altitude_agl,':b', label='noise level')\n",
    "    axs[0].plot(avg_abs_noise*thr_noise,altitude_agl,':b', label='noise level * {}'.format(thr_noise))\n",
    "    axs[0].plot(data[bases], altitude_agl[bases], '<g', label='bases')\n",
    "    axs[0].plot(data[peaks], altitude_agl[peaks], '>r', label='peaks')\n",
    "    axs[0].plot(data[tops], altitude_agl[tops], '^k', label='tops')\n",
    "    \n",
    "    #set axis\n",
    "    axs[0].set_ylim([ymin, ymax])\n",
    "    #axs[0].set_xlim([-20000,20000])\n",
    "    axs[0].legend()\n",
    "\n",
    "    #derivative on the right\n",
    "    axs[1].plot(ddata_dz, altitude_agl, 'b', label='first derivative')\n",
    "    axs[1].plot(ddata_dz[bases], altitude_agl[bases], '<g', label='bases')\n",
    "    axs[1].plot(ddata_dz[peaks], altitude_agl[peaks], '>r', label='peaks')\n",
    "    \n",
    "    axs[1].set_ylim([ymin, ymax])\n",
    "    axs[1].legend()\n",
    "    #set title\n",
    "    fig.suptitle(t,weight='bold')\n",
    "    \"\"\"\n",
    "\n",
    "    return {\n",
    "        'bases': bases,\n",
    "        'peaks': peaks,\n",
    "        'tops': tops,\n",
    "    }\n"
   ],
   "outputs": [],
   "metadata": {}
  },
  {
   "cell_type": "code",
   "execution_count": 1081,
   "source": [
    "clouds_bases, clouds_peaks, clouds_tops = [], [], []\n",
    "for i, t in enumerate(rcs.time.data):\n",
    "#for i, t in enumerate([0]):\n",
    "    data = rcs.data[i,:]\n",
    "    clouds = detect_clouds(data, thr_noise=5, thr_clouds = 1.5)\n",
    "    \n",
    "    #store info in 2D array\n",
    "    clouds_bases.append(clouds['bases'])\n",
    "    clouds_peaks.append(clouds['peaks'])\n",
    "    clouds_tops.append(clouds['tops'])\n",
    "    \n",
    "#creates dataarrays\n",
    "bases_da = xr.DataArray(\n",
    "    data=clouds_bases,\n",
    "    dims=[\"time\", \"altitude\"],\n",
    "    coords=dict(\n",
    "        time=profiles.data.time.data,\n",
    "        altitude=profiles.data.altitude.data,\n",
    "    ),\n",
    "    attrs=dict(\n",
    "        description=\"Mask - Base height of clouds\",\n",
    "        units=\"bool\",\n",
    "    )\n",
    ")\n",
    "peaks_da = xr.DataArray(\n",
    "    data=clouds_peaks,\n",
    "    dims=[\"time\", \"altitude\"],\n",
    "    coords=dict(\n",
    "        time=profiles.data.time.data,\n",
    "        altitude=profiles.data.altitude.data,\n",
    "    ),\n",
    "    attrs=dict(\n",
    "        description=\"Mask - Peak height of clouds\",\n",
    "        units=\"bool\",\n",
    "    )\n",
    ")\n",
    "tops_da = xr.DataArray(\n",
    "    data=clouds_tops,\n",
    "    dims=[\"time\", \"altitude\"],\n",
    "    coords=dict(\n",
    "        time=profiles.data.time.data,\n",
    "        altitude=profiles.data.altitude.data,\n",
    "    ),\n",
    "    attrs=dict(\n",
    "        description=\"Mask - Top height of clouds\",\n",
    "        units=\"bool\",\n",
    "    )\n",
    ")"
   ],
   "outputs": [],
   "metadata": {}
  },
  {
   "cell_type": "code",
   "execution_count": 1082,
   "source": [
    "bases_da.plot()"
   ],
   "outputs": [
    {
     "output_type": "execute_result",
     "data": {
      "text/plain": [
       "<matplotlib.collections.QuadMesh at 0x7fb496e27510>"
      ]
     },
     "metadata": {},
     "execution_count": 1082
    },
    {
     "output_type": "display_data",
     "data": {
      "image/png": "[encoded data removed]",
      "text/plain": [
       "<Figure size 720x360 with 2 Axes>"
      ]
     },
     "metadata": {
      "needs_background": "light"
     }
    }
   ],
   "metadata": {}
  },
  {
   "cell_type": "code",
   "execution_count": 1085,
   "source": [
    "peaks_da.plot()"
   ],
   "outputs": [
    {
     "output_type": "execute_result",
     "data": {
      "text/plain": [
       "<matplotlib.collections.QuadMesh at 0x7fb496c18d90>"
      ]
     },
     "metadata": {},
     "execution_count": 1085
    },
    {
     "output_type": "display_data",
     "data": {
      "image/png": "[encoded data removed]",
      "text/plain": [
       "<Figure size 720x360 with 2 Axes>"
      ]
     },
     "metadata": {
      "needs_background": "light"
     }
    }
   ],
   "metadata": {}
  },
  {
   "cell_type": "code",
   "execution_count": 1084,
   "source": [
    "tops_da.plot()"
   ],
   "outputs": [
    {
     "output_type": "execute_result",
     "data": {
      "text/plain": [
       "<matplotlib.collections.QuadMesh at 0x7fb496db4ed0>"
      ]
     },
     "metadata": {},
     "execution_count": 1084
    },
    {
     "output_type": "display_data",
     "data": {
      "image/png": "[encoded data removed]",
      "text/plain": [
       "<Figure size 720x360 with 2 Axes>"
      ]
     },
     "metadata": {
      "needs_background": "light"
     }
    }
   ],
   "metadata": {}
  },
  {
   "cell_type": "code",
   "execution_count": 1057,
   "source": [
    "plt.plot(bases,altitude_agl,'v')\n",
    "plt.plot(peaks,altitude_agl,'>')\n",
    "plt.plot(tops,altitude_agl,'^')\n"
   ],
   "outputs": [
    {
     "output_type": "execute_result",
     "data": {
      "text/plain": [
       "[<matplotlib.lines.Line2D at 0x7fb496f08990>]"
      ]
     },
     "metadata": {},
     "execution_count": 1057
    },
    {
     "output_type": "display_data",
     "data": {
      "image/png": "[encoded data removed]",
      "text/plain": [
       "<Figure size 720x360 with 1 Axes>"
      ]
     },
     "metadata": {
      "needs_background": "light"
     }
    }
   ],
   "metadata": {}
  },
  {
   "cell_type": "code",
   "execution_count": 1049,
   "source": [
    "#data: 1D range corrected signal data \n",
    "#thr_noise = 10 #threshold used in the test to determine if a couple (base,peak) is significant: data[peak(z)] - data[base(z)] >= thr_noise * noise(z)\n",
    "#thr_clouds = 1.5 #threshold used to discriminate aerosol from clouds: data[peak(z)] / data[base(z)] >= thr_clouds\n",
    "\n",
    "thr_noise = 5\n",
    "thr_clouds = 1.5\n",
    "\n",
    "#some useful functions:\n",
    "def get_indexes(mask):\n",
    "    #get indexes where mask is True\n",
    "    return [i for i, x in enumerate(mask) if x]\n",
    "def make_mask(length, indexes_where_True):\n",
    "    #length: int: length of the mask\n",
    "    #indexes_where_true: list\n",
    "    mask = np.array([False for x in np.ones(length)])\n",
    "    mask[indexes_where_True] = len(indexes_where_True)*[True]\n",
    "    return mask\n",
    "\n",
    "#0. rolling average\n",
    "avg_data = uniform_filter1d(data, size=3)\n",
    "\n",
    "\n",
    "#1. first derivative\n",
    "ddata_dz = np.diff(data, prepend=0)\n",
    "\n",
    "\n",
    "#2. identifies peaks and base by checking the sign changes of the derivative\n",
    "sign_changes = np.diff(np.sign(ddata_dz), append=0)\n",
    "all_bases = sign_changes==2\n",
    "all_peaks = sign_changes==-2\n",
    "#get indexes\n",
    "i_bases = get_indexes(all_bases)\n",
    "i_peaks = get_indexes(all_peaks)\n",
    "\n",
    "\n",
    "#3. the signal should start with a base\n",
    "if i_bases[0]>i_peaks[0] and i_peaks[0]>=1:\n",
    "    #set base as the minimum between peak and n gates under\n",
    "    gates = np.arange(i_peaks[0]-5,i_peaks[0])\n",
    "    i_base = np.argmin([data[gates[gates>=0]]])\n",
    "    all_bases[i_base]=True\n",
    "#update indexes\n",
    "i_bases = get_indexes(all_bases)\n",
    "\n",
    "\n",
    "#4. keeps significant couples (base,peak)\n",
    "# a layer can be considered as a proper layer if the difference of signal between the peak and the base is significant (larger than the noise level)\n",
    "# noise evaluation (using a high passing frequency filter)\n",
    "b, a = signal.butter(1, 0.3, btype='high')\n",
    "noise = signal.filtfilt(b, a, data)\n",
    "#rolling average of the noise\n",
    "avg_abs_noise = uniform_filter1d(abs_noise, size=100)\n",
    "#make sure we have as many peaks as bases\n",
    "if len(i_peaks)!=len(i_bases):\n",
    "    min_len = min([len(i_peaks),len(i_bases)])\n",
    "    i_peaks = i_peaks[0:min_len]\n",
    "    i_bases = i_bases[0:min_len]\n",
    "    \n",
    "\n",
    "# data[peak(z)] - data[base(z)] >= thr_noise * noise(z)\n",
    "bases, peaks = all_bases, all_peaks\n",
    "for i, _ in enumerate(i_bases):\n",
    "    #data_around_peak = np.mean(data[i_peaks[i]-1:i_peaks[i]+1])\n",
    "    #data_around_base = np.mean(data[i_bases[i]-1:i_bases[i]+1])\n",
    "    data_around_peak = avg_data[i_peaks[i]]\n",
    "    data_around_base = avg_data[i_bases[i]]\n",
    "    if data_around_peak - data_around_base <= thr_noise * avg_abs_noise[i_bases[i]]:\n",
    "        bases[i_bases[i]] = False\n",
    "        peaks[i_peaks[i]] = False\n",
    "#get indexes\n",
    "i_bases = get_indexes(bases)\n",
    "i_peaks = get_indexes(peaks)\n",
    "\n",
    "\n",
    "#5. make sure we finish by a peak: remove last base \n",
    "if len(i_bases)>len(i_peaks):\n",
    "    bases[i_bases[-1]] = False\n",
    "    i_bases.pop()\n",
    "\n",
    "\n",
    "#6. distinction between aerosol and clouds\n",
    "for i, _ in enumerate(i_bases):\n",
    "    data_around_peak = data[i_peaks[i]]\n",
    "    data_around_base = data[i_bases[i]]\n",
    "    if abs((data_around_peak - data_around_base) / data_around_base) <= thr_clouds:\n",
    "        bases[i_bases[i]] = False\n",
    "        peaks[i_peaks[i]] = False\n",
    "#get indexes\n",
    "i_bases = get_indexes(bases)\n",
    "i_peaks = get_indexes(peaks)\n",
    "\n",
    "\n",
    "\n",
    "#7. find tops of clouds layers\n",
    "tops = np.array([False for x in np.ones(len(data))])\n",
    "# conditions: look for bases above i_peaks[i], and data[top[i]] <= data[base[i]]\n",
    "for i, _ in enumerate(i_bases):\n",
    "    mask_value = np.array(data<data[i_bases[i]])\n",
    "    mask_altitude = np.array([False for x in np.ones(len(data))])\n",
    "    mask_altitude[i_bases[i]:] = True\n",
    "    #the top is the first value that corresponds to the intersection of the two masks\n",
    "    cross_mask = np.logical_and(mask_value, mask_altitude)\n",
    "    i_cross_mask = get_indexes(cross_mask)\n",
    "    if len(i_cross_mask)>0:\n",
    "        if tops[i_cross_mask[0]]:\n",
    "            print('top already found. remove current layer')\n",
    "            bases[i_bases[i]] = False\n",
    "            peaks[i_peaks[i]] = False    \n",
    "        else:\n",
    "            print('found top at ',i_cross_mask[0], 'for base ',i_bases[i])\n",
    "            tops[i_cross_mask[0]] = True\n",
    "    else:\n",
    "        print('no top found for base',i_bases[i])\n",
    "        bases[i_bases[i]] = False\n",
    "        peaks[i_peaks[i]] = False\n",
    "        \n",
    "print(len(bases[bases]),len(peaks[peaks]),len(tops[tops]))\n",
    "\n",
    "\n",
    "#get indexes\n",
    "i_bases = get_indexes(bases)\n",
    "i_peaks = get_indexes(peaks)\n",
    "i_tops = get_indexes(tops)\n",
    "\n",
    "\n",
    "#8. merge layers: just focus on bases and tops\n",
    "#drop layer if base of next layer below top of current layer top of current layer\n",
    "for i in np.arange(len(i_bases)-1):\n",
    "    if i<len(i_bases)-1 and i_bases[i+1]<=i_tops[i]:\n",
    "        i_bases.remove(i_bases[i+1])\n",
    "        i_tops.remove(i_tops[i])\n",
    "\n",
    "#rebuild base and top masks\n",
    "bases = make_mask(len(data), i_bases)\n",
    "peaks = make_mask(len(data), [])\n",
    "tops = make_mask(len(data), i_tops)\n",
    "#find peaks between bases and tops\n",
    "for i in np.arange(len(i_bases)):\n",
    "    peaks[i_bases[i]+np.argmax(data[i_bases[i]:i_tops[i]])] = True\n",
    "#get new indexes\n",
    "i_peaks = get_indexes(peaks)\n",
    "\n",
    "\n",
    "#some plotting\n",
    "fig, axs = plt.subplots(1,2,figsize=(10,10))\n",
    "\n",
    "ymin, ymax = 000, 500\n",
    "altitude_agl = profiles.data.altitude.data - profiles.data.station_altitude.data\n",
    "\n",
    "#signal on the left\n",
    "axs[0].plot(data, altitude_agl, 'b', label='rcs')\n",
    "axs[0].plot(avg_data, altitude_agl, 'c', label='avg_rcs')\n",
    "\n",
    "axs[0].plot(avg_abs_noise,altitude_agl,':b', label='noise level')\n",
    "axs[0].plot(avg_abs_noise*thr_noise,altitude_agl,':b', label='noise level * {}'.format(thr_noise))\n",
    "axs[0].plot(data[bases], altitude_agl[bases], '<g', label='bases ({})'.format(len(bases[bases==True])))\n",
    "axs[0].plot(data[peaks], altitude_agl[peaks], '>r', label='peaks ({})'.format(len(peaks[peaks==True])))\n",
    "axs[0].plot(data[tops], altitude_agl[tops], '^k', label='tops ({})'.format(len(tops[tops==True])))\n",
    "\n",
    "#set axis\n",
    "axs[0].set_ylim([ymin, ymax])\n",
    "#axs[0].set_xlim([-20000,20000])\n",
    "axs[0].legend()\n",
    "\n",
    "#derivative on the right\n",
    "axs[1].plot(ddata_dz, altitude_agl, 'b', label='first derivative')\n",
    "axs[1].plot(ddata_dz[bases], altitude_agl[bases], '<g', label='bases')\n",
    "axs[1].plot(ddata_dz[peaks], altitude_agl[peaks], '>r', label='peaks')\n",
    "\n",
    "axs[1].set_ylim([ymin, ymax])\n",
    "axs[1].legend()\n",
    "#set title\n",
    "fig.suptitle(t,weight='bold')"
   ],
   "outputs": [
    {
     "output_type": "stream",
     "name": "stdout",
     "text": [
      "found top at  9 for base  1\n",
      "found top at  111 for base  106\n",
      "found top at  141 for base  133\n",
      "found top at  177 for base  166\n",
      "found top at  317 for base  276\n",
      "found top at  345 for base  327\n",
      "found top at  392 for base  362\n",
      "top already found. remove current layer\n",
      "found top at  481 for base  474\n",
      "no top found for base 494\n",
      "no top found for base 503\n",
      "8 8 8\n"
     ]
    },
    {
     "output_type": "execute_result",
     "data": {
      "text/plain": [
       "Text(0.5, 0.98, '2021-09-09T08:35:05.000000000')"
      ]
     },
     "metadata": {},
     "execution_count": 1049
    },
    {
     "output_type": "display_data",
     "data": {
      "image/png": "[encoded data removed]",
      "text/plain": [
       "<Figure size 720x720 with 2 Axes>"
      ]
     },
     "metadata": {
      "needs_background": "light"
     }
    }
   ],
   "metadata": {}
  },
  {
   "cell_type": "code",
   "execution_count": null,
   "source": [],
   "outputs": [],
   "metadata": {}
  },
  {
   "cell_type": "code",
   "execution_count": 1045,
   "source": [
    "for i, _ in enumerate(i_bases):\n",
    "    mask_value = np.array(data<data[i_bases[i]])\n",
    "    mask_altitude = np.array([False for x in np.ones(len(data))])\n",
    "    mask_altitude[i_bases[i]:] = True\n",
    "    #the top is the first value that corresponds to the intersection of the two masks\n",
    "    cross_mask = np.logical_and(mask_value, mask_altitude)\n",
    "    i_cross_mask = get_indexes(cross_mask)\n",
    "    if len(i_cross_mask)>0:\n",
    "        print('found top at ',i_cross_mask[0], 'for base ',i_bases[i])\n",
    "    else:\n",
    "        print('no top found for base',i_bases[i])"
   ],
   "outputs": [
    {
     "output_type": "stream",
     "name": "stdout",
     "text": [
      "found top at  9 for base  1\n",
      "found top at  111 for base  106\n",
      "found top at  141 for base  133\n",
      "found top at  177 for base  166\n",
      "found top at  317 for base  276\n",
      "found top at  345 for base  327\n",
      "found top at  392 for base  362\n",
      "found top at  392 for base  379\n",
      "found top at  481 for base  474\n",
      "no top found for base 494\n",
      "no top found for base 503\n"
     ]
    }
   ],
   "metadata": {}
  },
  {
   "cell_type": "code",
   "execution_count": 1042,
   "source": [
    "mask_value"
   ],
   "outputs": [
    {
     "output_type": "execute_result",
     "data": {
      "text/plain": [
       "array([[False, False, False, False, False, False, False, False, False,\n",
       "         True,  True,  True,  True,  True,  True, False, False, False,\n",
       "        False, False, False, False, False, False, False, False, False,\n",
       "        False, False, False, False, False, False, False, False, False,\n",
       "        False, False, False, False, False, False, False, False, False,\n",
       "        False, False, False, False, False, False, False, False, False,\n",
       "        False, False, False, False, False, False, False, False, False,\n",
       "        False,  True, False, False, False,  True,  True,  True, False,\n",
       "         True,  True,  True, False,  True, False, False,  True, False,\n",
       "         True, False,  True,  True,  True,  True, False,  True, False,\n",
       "         True,  True,  True,  True, False,  True, False, False,  True,\n",
       "         True,  True, False,  True, False, False,  True,  True, False,\n",
       "        False, False, False,  True, False,  True, False,  True,  True,\n",
       "        False, False,  True,  True, False,  True,  True,  True,  True,\n",
       "         True, False,  True, False,  True, False, False,  True,  True,\n",
       "         True, False, False, False, False, False,  True,  True,  True,\n",
       "         True,  True,  True,  True, False,  True, False, False, False,\n",
       "         True, False, False,  True, False,  True,  True,  True, False,\n",
       "        False, False, False, False,  True,  True, False, False,  True,\n",
       "         True,  True,  True,  True,  True,  True,  True,  True, False,\n",
       "         True,  True, False,  True, False, False,  True, False,  True,\n",
       "        False,  True,  True,  True,  True, False, False,  True,  True,\n",
       "         True,  True,  True,  True,  True,  True,  True,  True, False,\n",
       "         True,  True, False,  True,  True, False,  True, False, False,\n",
       "         True,  True,  True, False,  True,  True,  True, False, False,\n",
       "        False, False, False,  True, False, False, False, False, False,\n",
       "         True,  True,  True,  True, False,  True,  True,  True, False,\n",
       "        False,  True,  True,  True,  True, False,  True,  True, False,\n",
       "        False, False, False, False, False, False,  True,  True, False,\n",
       "        False,  True,  True, False,  True,  True,  True,  True,  True,\n",
       "        False,  True, False,  True,  True,  True,  True,  True, False,\n",
       "         True, False,  True, False, False, False,  True,  True,  True,\n",
       "        False, False,  True, False,  True,  True,  True,  True, False,\n",
       "         True, False, False, False,  True, False, False, False,  True,\n",
       "        False, False,  True,  True,  True,  True,  True,  True,  True,\n",
       "         True, False,  True,  True, False, False,  True,  True, False,\n",
       "         True, False,  True,  True,  True, False, False, False,  True,\n",
       "         True, False,  True,  True, False, False, False, False, False,\n",
       "         True, False,  True,  True,  True,  True, False,  True, False,\n",
       "         True,  True,  True,  True,  True,  True,  True,  True,  True,\n",
       "         True,  True,  True,  True, False, False, False, False, False,\n",
       "         True,  True,  True,  True, False,  True,  True,  True,  True,\n",
       "        False,  True,  True, False, False,  True, False,  True,  True,\n",
       "         True,  True, False,  True, False,  True, False, False,  True,\n",
       "         True, False,  True, False,  True,  True,  True,  True, False,\n",
       "         True,  True,  True, False,  True,  True,  True,  True, False,\n",
       "         True,  True, False, False,  True,  True,  True,  True, False,\n",
       "        False, False,  True,  True,  True, False,  True, False, False,\n",
       "        False, False,  True,  True,  True, False, False, False, False,\n",
       "        False,  True, False,  True,  True,  True,  True,  True, False,\n",
       "        False, False, False,  True, False,  True, False,  True, False,\n",
       "         True,  True,  True,  True,  True,  True, False,  True,  True,\n",
       "        False,  True,  True, False,  True,  True,  True, False, False,\n",
       "        False, False,  True, False,  True,  True, False,  True,  True,\n",
       "        False,  True, False, False, False,  True,  True,  True,  True,\n",
       "         True, False,  True,  True, False,  True, False, False,  True,\n",
       "         True,  True, False, False, False, False, False]])"
      ]
     },
     "metadata": {},
     "execution_count": 1042
    }
   ],
   "metadata": {}
  },
  {
   "cell_type": "code",
   "execution_count": 1023,
   "source": [
    "np.shape(data)"
   ],
   "outputs": [
    {
     "output_type": "execute_result",
     "data": {
      "text/plain": [
       "(511,)"
      ]
     },
     "metadata": {},
     "execution_count": 1023
    }
   ],
   "metadata": {}
  },
  {
   "cell_type": "code",
   "execution_count": 1008,
   "source": [
    "tops = np.array([False for x in np.ones(len(data))])\n",
    "# conditions: look for bases above i_peaks[i], and data[top[i]] <= data[base[i]]\n",
    "for j, _ in enumerate(i_bases):\n",
    "    for i in np.arange(i_peaks[j],len(data)):\n",
    "        mask = data<=data[i_bases[j]]\n",
    "        #if at least one value is true, sets\n",
    "        print('base at ',i_bases[j])\n",
    "        if len(mask[mask])>0:\n",
    "            print('top found at ',i)\n",
    "            true_indexes_above_base = [i for i, x in enumerate(mask) if i>i_bases[j]]\n",
    "            #if already top, remove base and peak of current layer\n",
    "            if tops[true_indexes_above_base[0]]:\n",
    "                print('delete')\n",
    "                bases[i_bases[j]] = False\n",
    "                peaks[i_peaks[j]] = False\n",
    "            tops[true_indexes_above_base[0]] = True\n",
    "            break\n",
    "        else:\n",
    "            print('no top found for base at ',i)\n",
    "            #else, remove base and peak\n",
    "            bases[i_bases[j]] = False\n",
    "            peaks[i_peaks[j]] = False"
   ],
   "outputs": [
    {
     "output_type": "stream",
     "name": "stdout",
     "text": [
      "base at  1\n",
      "top found at  6\n",
      "base at  106\n",
      "top found at  108\n",
      "base at  133\n",
      "top found at  137\n",
      "base at  166\n",
      "top found at  169\n",
      "base at  276\n",
      "top found at  278\n",
      "base at  327\n",
      "top found at  329\n",
      "base at  362\n",
      "top found at  364\n",
      "base at  379\n",
      "top found at  381\n",
      "base at  474\n",
      "top found at  477\n",
      "base at  494\n",
      "top found at  496\n",
      "base at  503\n",
      "top found at  507\n"
     ]
    }
   ],
   "metadata": {}
  },
  {
   "cell_type": "code",
   "execution_count": 1009,
   "source": [
    "print(len(bases[bases]),len(peaks[peaks]),len(tops[tops]))"
   ],
   "outputs": [
    {
     "output_type": "stream",
     "name": "stdout",
     "text": [
      "11 11 11\n"
     ]
    }
   ],
   "metadata": {}
  },
  {
   "cell_type": "code",
   "execution_count": 979,
   "source": [
    "tops[tops]"
   ],
   "outputs": [
    {
     "output_type": "execute_result",
     "data": {
      "text/plain": [
       "array([ True,  True,  True,  True,  True,  True,  True,  True])"
      ]
     },
     "metadata": {},
     "execution_count": 979
    }
   ],
   "metadata": {}
  },
  {
   "cell_type": "code",
   "execution_count": 980,
   "source": [
    "peaks[peaks]"
   ],
   "outputs": [
    {
     "output_type": "execute_result",
     "data": {
      "text/plain": [
       "array([ True,  True,  True,  True,  True,  True,  True,  True,  True,\n",
       "        True])"
      ]
     },
     "metadata": {},
     "execution_count": 980
    }
   ],
   "metadata": {}
  },
  {
   "cell_type": "code",
   "execution_count": 1002,
   "source": [
    "tops = np.array([False for x in np.ones(len(data))])\n",
    "\n",
    "j = 0\n",
    "for i in np.arange(i_peaks[j],len(data)):\n",
    "    mask = data<=data[i_bases[j]]\n",
    "    #if at least one value is true, sets\n",
    "    print('base at ',i_bases[j])\n",
    "    if len(mask[mask])>0:\n",
    "        print('top found at ',i)\n",
    "        #true_indexes = np.array([i if x>i_bases[j] for i, x in enumerate(mask)])\n",
    "        #true_indexes_above_base = true_indexes[true_indexes>i_bases[j]]\n",
    "        true_indexes_above_base = [i for i, x in enumerate(mask) if i>i_bases[j]]\n",
    "        #if already top, remove base and peak of current layer\n",
    "        if tops[true_indexes_above_base[0]]:\n",
    "            print('delete')\n",
    "            bases[i_bases[j]] = False\n",
    "            peaks[i_peaks[j]] = False\n",
    "        tops[true_indexes_above_base[0]] = True\n",
    "        break\n",
    "    else:\n",
    "        print('no top found for base at ',i)\n",
    "        #else, remove base and peak\n",
    "        bases[i_bases[j]] = False\n",
    "        peaks[i_peaks[j]] = False"
   ],
   "outputs": [
    {
     "output_type": "stream",
     "name": "stdout",
     "text": [
      "base at  1\n",
      "top found at  6\n"
     ]
    }
   ],
   "metadata": {}
  },
  {
   "cell_type": "code",
   "execution_count": 997,
   "source": [
    "true_indexes = [i for i, x in enumerate(mask) if i>i_bases[j]]\n",
    "print(i_bases[j], true_indexes)"
   ],
   "outputs": [
    {
     "output_type": "stream",
     "name": "stdout",
     "text": [
      "1 [2, 3, 4, 5, 6, 7, 8, 9, 10, 11, 12, 13, 14, 15, 16, 17, 18, 19, 20, 21, 22, 23, 24, 25, 26, 27, 28, 29, 30, 31, 32, 33, 34, 35, 36, 37, 38, 39, 40, 41, 42, 43, 44, 45, 46, 47, 48, 49, 50, 51, 52, 53, 54, 55, 56, 57, 58, 59, 60, 61, 62, 63, 64, 65, 66, 67, 68, 69, 70, 71, 72, 73, 74, 75, 76, 77, 78, 79, 80, 81, 82, 83, 84, 85, 86, 87, 88, 89, 90, 91, 92, 93, 94, 95, 96, 97, 98, 99, 100, 101, 102, 103, 104, 105, 106, 107, 108, 109, 110, 111, 112, 113, 114, 115, 116, 117, 118, 119, 120, 121, 122, 123, 124, 125, 126, 127, 128, 129, 130, 131, 132, 133, 134, 135, 136, 137, 138, 139, 140, 141, 142, 143, 144, 145, 146, 147, 148, 149, 150, 151, 152, 153, 154, 155, 156, 157, 158, 159, 160, 161, 162, 163, 164, 165, 166, 167, 168, 169, 170, 171, 172, 173, 174, 175, 176, 177, 178, 179, 180, 181, 182, 183, 184, 185, 186, 187, 188, 189, 190, 191, 192, 193, 194, 195, 196, 197, 198, 199, 200, 201, 202, 203, 204, 205, 206, 207, 208, 209, 210, 211, 212, 213, 214, 215, 216, 217, 218, 219, 220, 221, 222, 223, 224, 225, 226, 227, 228, 229, 230, 231, 232, 233, 234, 235, 236, 237, 238, 239, 240, 241, 242, 243, 244, 245, 246, 247, 248, 249, 250, 251, 252, 253, 254, 255, 256, 257, 258, 259, 260, 261, 262, 263, 264, 265, 266, 267, 268, 269, 270, 271, 272, 273, 274, 275, 276, 277, 278, 279, 280, 281, 282, 283, 284, 285, 286, 287, 288, 289, 290, 291, 292, 293, 294, 295, 296, 297, 298, 299, 300, 301, 302, 303, 304, 305, 306, 307, 308, 309, 310, 311, 312, 313, 314, 315, 316, 317, 318, 319, 320, 321, 322, 323, 324, 325, 326, 327, 328, 329, 330, 331, 332, 333, 334, 335, 336, 337, 338, 339, 340, 341, 342, 343, 344, 345, 346, 347, 348, 349, 350, 351, 352, 353, 354, 355, 356, 357, 358, 359, 360, 361, 362, 363, 364, 365, 366, 367, 368, 369, 370, 371, 372, 373, 374, 375, 376, 377, 378, 379, 380, 381, 382, 383, 384, 385, 386, 387, 388, 389, 390, 391, 392, 393, 394, 395, 396, 397, 398, 399, 400, 401, 402, 403, 404, 405, 406, 407, 408, 409, 410, 411, 412, 413, 414, 415, 416, 417, 418, 419, 420, 421, 422, 423, 424, 425, 426, 427, 428, 429, 430, 431, 432, 433, 434, 435, 436, 437, 438, 439, 440, 441, 442, 443, 444, 445, 446, 447, 448, 449, 450, 451, 452, 453, 454, 455, 456, 457, 458, 459, 460, 461, 462, 463, 464, 465, 466, 467, 468, 469, 470, 471, 472, 473, 474, 475, 476, 477, 478, 479, 480, 481, 482, 483, 484, 485, 486, 487, 488, 489, 490, 491, 492, 493, 494, 495, 496, 497, 498, 499, 500, 501, 502, 503, 504, 505, 506, 507, 508, 509, 510]\n"
     ]
    }
   ],
   "metadata": {}
  },
  {
   "cell_type": "code",
   "execution_count": 951,
   "source": [
    "np.array(true_indexes)>i_bases[0]"
   ],
   "outputs": [
    {
     "output_type": "execute_result",
     "data": {
      "text/plain": [
       "array([False,  True,  True,  True,  True,  True,  True,  True,  True,\n",
       "        True,  True,  True,  True,  True,  True,  True,  True,  True,\n",
       "        True,  True,  True,  True,  True,  True,  True,  True,  True,\n",
       "        True,  True,  True,  True,  True,  True,  True,  True,  True,\n",
       "        True,  True,  True,  True,  True,  True,  True,  True,  True,\n",
       "        True,  True,  True,  True,  True,  True,  True,  True,  True,\n",
       "        True,  True,  True,  True,  True,  True,  True,  True,  True,\n",
       "        True,  True,  True,  True,  True,  True,  True,  True,  True,\n",
       "        True,  True,  True,  True,  True,  True,  True,  True,  True,\n",
       "        True,  True,  True,  True,  True,  True,  True,  True,  True,\n",
       "        True,  True,  True,  True,  True,  True,  True,  True,  True,\n",
       "        True,  True,  True,  True,  True,  True,  True,  True,  True,\n",
       "        True,  True,  True,  True,  True,  True,  True,  True,  True,\n",
       "        True,  True,  True,  True,  True,  True,  True,  True,  True,\n",
       "        True,  True,  True,  True,  True,  True,  True,  True,  True,\n",
       "        True,  True,  True,  True,  True,  True,  True,  True,  True,\n",
       "        True,  True,  True,  True,  True,  True,  True,  True,  True,\n",
       "        True,  True,  True,  True,  True,  True,  True,  True,  True,\n",
       "        True,  True,  True,  True,  True,  True,  True,  True,  True,\n",
       "        True,  True,  True,  True,  True,  True,  True,  True,  True,\n",
       "        True,  True,  True,  True,  True,  True,  True,  True,  True,\n",
       "        True,  True,  True,  True,  True,  True,  True,  True,  True,\n",
       "        True,  True,  True,  True,  True,  True,  True,  True,  True,\n",
       "        True,  True,  True,  True,  True,  True,  True,  True,  True,\n",
       "        True,  True,  True,  True,  True,  True,  True,  True,  True,\n",
       "        True,  True,  True,  True,  True,  True,  True,  True,  True,\n",
       "        True,  True,  True,  True,  True,  True,  True,  True,  True,\n",
       "        True,  True,  True,  True,  True,  True,  True,  True,  True,\n",
       "        True,  True,  True,  True,  True,  True,  True,  True,  True,\n",
       "        True,  True,  True,  True,  True,  True])"
      ]
     },
     "metadata": {},
     "execution_count": 951
    }
   ],
   "metadata": {}
  },
  {
   "cell_type": "code",
   "execution_count": 944,
   "source": [
    "true_indexes"
   ],
   "outputs": [
    {
     "output_type": "execute_result",
     "data": {
      "text/plain": [
       "[1,\n",
       " 9,\n",
       " 10,\n",
       " 11,\n",
       " 12,\n",
       " 13,\n",
       " 14,\n",
       " 64,\n",
       " 68,\n",
       " 69,\n",
       " 70,\n",
       " 72,\n",
       " 73,\n",
       " 74,\n",
       " 76,\n",
       " 79,\n",
       " 81,\n",
       " 83,\n",
       " 84,\n",
       " 85,\n",
       " 86,\n",
       " 88,\n",
       " 90,\n",
       " 91,\n",
       " 92,\n",
       " 93,\n",
       " 95,\n",
       " 98,\n",
       " 99,\n",
       " 100,\n",
       " 102,\n",
       " 105,\n",
       " 106,\n",
       " 111,\n",
       " 113,\n",
       " 115,\n",
       " 116,\n",
       " 119,\n",
       " 120,\n",
       " 122,\n",
       " 123,\n",
       " 124,\n",
       " 125,\n",
       " 126,\n",
       " 128,\n",
       " 130,\n",
       " 133,\n",
       " 134,\n",
       " 135,\n",
       " 141,\n",
       " 142,\n",
       " 143,\n",
       " 144,\n",
       " 145,\n",
       " 146,\n",
       " 147,\n",
       " 149,\n",
       " 153,\n",
       " 156,\n",
       " 158,\n",
       " 159,\n",
       " 160,\n",
       " 166,\n",
       " 167,\n",
       " 170,\n",
       " 171,\n",
       " 172,\n",
       " 173,\n",
       " 174,\n",
       " 175,\n",
       " 176,\n",
       " 177,\n",
       " 178,\n",
       " 180,\n",
       " 181,\n",
       " 183,\n",
       " 186,\n",
       " 188,\n",
       " 190,\n",
       " 191,\n",
       " 192,\n",
       " 193,\n",
       " 196,\n",
       " 197,\n",
       " 198,\n",
       " 199,\n",
       " 200,\n",
       " 201,\n",
       " 202,\n",
       " 203,\n",
       " 204,\n",
       " 205,\n",
       " 207,\n",
       " 208,\n",
       " 210,\n",
       " 211,\n",
       " 213,\n",
       " 216,\n",
       " 217,\n",
       " 218,\n",
       " 220,\n",
       " 221,\n",
       " 222,\n",
       " 228,\n",
       " 234,\n",
       " 235,\n",
       " 236,\n",
       " 237,\n",
       " 239,\n",
       " 240,\n",
       " 241,\n",
       " 244,\n",
       " 245,\n",
       " 246,\n",
       " 247,\n",
       " 249,\n",
       " 250,\n",
       " 258,\n",
       " 259,\n",
       " 262,\n",
       " 263,\n",
       " 265,\n",
       " 266,\n",
       " 267,\n",
       " 268,\n",
       " 269,\n",
       " 271,\n",
       " 273,\n",
       " 274,\n",
       " 275,\n",
       " 276,\n",
       " 277,\n",
       " 279,\n",
       " 281,\n",
       " 285,\n",
       " 286,\n",
       " 287,\n",
       " 290,\n",
       " 292,\n",
       " 293,\n",
       " 294,\n",
       " 295,\n",
       " 297,\n",
       " 301,\n",
       " 305,\n",
       " 308,\n",
       " 309,\n",
       " 310,\n",
       " 311,\n",
       " 312,\n",
       " 313,\n",
       " 314,\n",
       " 315,\n",
       " 317,\n",
       " 318,\n",
       " 321,\n",
       " 322,\n",
       " 324,\n",
       " 326,\n",
       " 327,\n",
       " 328,\n",
       " 332,\n",
       " 333,\n",
       " 335,\n",
       " 336,\n",
       " 342,\n",
       " 344,\n",
       " 345,\n",
       " 346,\n",
       " 347,\n",
       " 349,\n",
       " 351,\n",
       " 352,\n",
       " 353,\n",
       " 354,\n",
       " 355,\n",
       " 356,\n",
       " 357,\n",
       " 358,\n",
       " 359,\n",
       " 360,\n",
       " 361,\n",
       " 362,\n",
       " 363,\n",
       " 369,\n",
       " 370,\n",
       " 371,\n",
       " 372,\n",
       " 374,\n",
       " 375,\n",
       " 376,\n",
       " 377,\n",
       " 379,\n",
       " 380,\n",
       " 383,\n",
       " 385,\n",
       " 386,\n",
       " 387,\n",
       " 388,\n",
       " 390,\n",
       " 392,\n",
       " 395,\n",
       " 396,\n",
       " 398,\n",
       " 400,\n",
       " 401,\n",
       " 402,\n",
       " 403,\n",
       " 405,\n",
       " 406,\n",
       " 407,\n",
       " 409,\n",
       " 410,\n",
       " 411,\n",
       " 412,\n",
       " 414,\n",
       " 415,\n",
       " 418,\n",
       " 419,\n",
       " 420,\n",
       " 421,\n",
       " 425,\n",
       " 426,\n",
       " 427,\n",
       " 429,\n",
       " 434,\n",
       " 435,\n",
       " 436,\n",
       " 442,\n",
       " 444,\n",
       " 445,\n",
       " 446,\n",
       " 447,\n",
       " 448,\n",
       " 453,\n",
       " 455,\n",
       " 457,\n",
       " 459,\n",
       " 460,\n",
       " 461,\n",
       " 462,\n",
       " 463,\n",
       " 464,\n",
       " 466,\n",
       " 467,\n",
       " 469,\n",
       " 470,\n",
       " 472,\n",
       " 473,\n",
       " 474,\n",
       " 479,\n",
       " 481,\n",
       " 482,\n",
       " 484,\n",
       " 485,\n",
       " 487,\n",
       " 491,\n",
       " 492,\n",
       " 493,\n",
       " 494,\n",
       " 495,\n",
       " 497,\n",
       " 498,\n",
       " 500,\n",
       " 503,\n",
       " 504,\n",
       " 505]"
      ]
     },
     "metadata": {},
     "execution_count": 944
    }
   ],
   "metadata": {}
  },
  {
   "cell_type": "code",
   "execution_count": 910,
   "source": [
    "i_tops"
   ],
   "outputs": [
    {
     "output_type": "execute_result",
     "data": {
      "text/plain": [
       "[9, 111, 141, 177, 317, 345, 392, 481]"
      ]
     },
     "metadata": {},
     "execution_count": 910
    }
   ],
   "metadata": {}
  },
  {
   "cell_type": "code",
   "execution_count": null,
   "source": [],
   "outputs": [],
   "metadata": {}
  }
 ],
 "metadata": {
  "orig_nbformat": 4,
  "language_info": {
   "name": "python",
   "version": "3.7.6",
   "mimetype": "text/x-python",
   "codemirror_mode": {
    "name": "ipython",
    "version": 3
   },
   "pygments_lexer": "ipython3",
   "nbconvert_exporter": "python",
   "file_extension": ".py"
  },
  "kernelspec": {
   "name": "python3",
   "display_name": "Python 3.7.6 64-bit ('base': conda)"
  },
  "interpreter": {
   "hash": "1ecea86ce23ca560b4fc5412ba3b391e3feea4430948873bd295b73c8d382577"
  }
 },
 "nbformat": 4,
 "nbformat_minor": 2
}